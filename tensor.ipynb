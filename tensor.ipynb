{
  "nbformat": 4,
  "nbformat_minor": 0,
  "metadata": {
    "colab": {
      "provenance": [],
      "gpuType": "T4",
      "authorship_tag": "ABX9TyN5PLjx7LpKNrkbzbVQ7m7/",
      "include_colab_link": true
    },
    "kernelspec": {
      "name": "python3",
      "display_name": "Python 3"
    },
    "language_info": {
      "name": "python"
    },
    "accelerator": "GPU"
  },
  "cells": [
    {
      "cell_type": "markdown",
      "metadata": {
        "id": "view-in-github",
        "colab_type": "text"
      },
      "source": [
        "<a href=\"https://colab.research.google.com/github/advait2811/pytorch/blob/main/tensor.ipynb\" target=\"_parent\"><img src=\"https://colab.research.google.com/assets/colab-badge.svg\" alt=\"Open In Colab\"/></a>"
      ]
    },
    {
      "cell_type": "code",
      "execution_count": 1,
      "metadata": {
        "id": "AOoCuFqjqIZW"
      },
      "outputs": [],
      "source": [
        "import torch\n"
      ]
    },
    {
      "cell_type": "code",
      "source": [
        "import numpy as np\n"
      ],
      "metadata": {
        "id": "JCNsfaowqr0x"
      },
      "execution_count": 2,
      "outputs": []
    },
    {
      "cell_type": "code",
      "source": [
        "tensor2d= torch.rand(27)\n",
        "tensor2d"
      ],
      "metadata": {
        "id": "b8GiyO6YC2wy",
        "outputId": "6460850c-4aa5-40c6-b7a4-c06bde7c0547",
        "colab": {
          "base_uri": "https://localhost:8080/"
        }
      },
      "execution_count": 3,
      "outputs": [
        {
          "output_type": "execute_result",
          "data": {
            "text/plain": [
              "tensor([0.9428, 0.4686, 0.0935, 0.3497, 0.5131, 0.2634, 0.7885, 0.7394, 0.5868,\n",
              "        0.0151, 0.0498, 0.3335, 0.7075, 0.0237, 0.0957, 0.4584, 0.5586, 0.4078,\n",
              "        0.7869, 0.3606, 0.5277, 0.3063, 0.0563, 0.3790, 0.7101, 0.7012, 0.2442])"
            ]
          },
          "metadata": {},
          "execution_count": 3
        }
      ]
    },
    {
      "cell_type": "code",
      "source": [
        "tensor2d=tensor2d.reshape(-1,3)\n",
        "tensor2d"
      ],
      "metadata": {
        "id": "ApoSd_waMTUb",
        "outputId": "5e178ef8-7519-4984-fe89-d22a9677f6cf",
        "colab": {
          "base_uri": "https://localhost:8080/"
        }
      },
      "execution_count": 4,
      "outputs": [
        {
          "output_type": "execute_result",
          "data": {
            "text/plain": [
              "tensor([[0.9428, 0.4686, 0.0935],\n",
              "        [0.3497, 0.5131, 0.2634],\n",
              "        [0.7885, 0.7394, 0.5868],\n",
              "        [0.0151, 0.0498, 0.3335],\n",
              "        [0.7075, 0.0237, 0.0957],\n",
              "        [0.4584, 0.5586, 0.4078],\n",
              "        [0.7869, 0.3606, 0.5277],\n",
              "        [0.3063, 0.0563, 0.3790],\n",
              "        [0.7101, 0.7012, 0.2442]])"
            ]
          },
          "metadata": {},
          "execution_count": 4
        }
      ]
    },
    {
      "cell_type": "code",
      "source": [
        "tensor3d=torch.zeros(3,3,3)\n",
        "tensor3d\n"
      ],
      "metadata": {
        "id": "O8EJO-yNOw56",
        "outputId": "16252d61-f776-46dc-801a-2c92b4eba8dd",
        "colab": {
          "base_uri": "https://localhost:8080/"
        }
      },
      "execution_count": 16,
      "outputs": [
        {
          "output_type": "execute_result",
          "data": {
            "text/plain": [
              "tensor([[[0., 0., 0.],\n",
              "         [0., 0., 0.],\n",
              "         [0., 0., 0.]],\n",
              "\n",
              "        [[0., 0., 0.],\n",
              "         [0., 0., 0.],\n",
              "         [0., 0., 0.]],\n",
              "\n",
              "        [[0., 0., 0.],\n",
              "         [0., 0., 0.],\n",
              "         [0., 0., 0.]]])"
            ]
          },
          "metadata": {},
          "execution_count": 16
        }
      ]
    },
    {
      "cell_type": "code",
      "source": [
        "tensora=torch.tensor([1,2,3,4,5])\n",
        "tensorb=torch.tensor([6,7,2,11,111])"
      ],
      "metadata": {
        "id": "zvyMP2-H2tOS"
      },
      "execution_count": 18,
      "outputs": []
    },
    {
      "cell_type": "code",
      "source": [
        "print(tensora+tensorb)\n",
        "print(tensora.add(tensorb))\n",
        "print(tensora.pow(tensorb))\n",
        "print(torch.add(tensora,tensorb))"
      ],
      "metadata": {
        "id": "Z05sMcZ5418L",
        "outputId": "3864d18b-5c41-4d0d-e5dd-618eb44b5f32",
        "colab": {
          "base_uri": "https://localhost:8080/"
        }
      },
      "execution_count": 22,
      "outputs": [
        {
          "output_type": "stream",
          "name": "stdout",
          "text": [
            "tensor([  7,   9,   5,  15, 116])\n",
            "tensor([  7,   9,   5,  15, 116])\n",
            "tensor([                   1,                  128,                    9,\n",
            "                     4194304, -6702486051151591923])\n",
            "tensor([  7,   9,   5,  15, 116])\n"
          ]
        }
      ]
    }
  ]
}