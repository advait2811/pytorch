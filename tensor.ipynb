{
  "nbformat": 4,
  "nbformat_minor": 0,
  "metadata": {
    "colab": {
      "provenance": [],
      "gpuType": "T4",
      "authorship_tag": "ABX9TyMbV+EJaJfCl8ryM2WvgZT/",
      "include_colab_link": true
    },
    "kernelspec": {
      "name": "python3",
      "display_name": "Python 3"
    },
    "language_info": {
      "name": "python"
    },
    "accelerator": "GPU"
  },
  "cells": [
    {
      "cell_type": "markdown",
      "metadata": {
        "id": "view-in-github",
        "colab_type": "text"
      },
      "source": [
        "<a href=\"https://colab.research.google.com/github/advait2811/pytorch/blob/main/tensor.ipynb\" target=\"_parent\"><img src=\"https://colab.research.google.com/assets/colab-badge.svg\" alt=\"Open In Colab\"/></a>"
      ]
    },
    {
      "cell_type": "code",
      "execution_count": 2,
      "metadata": {
        "id": "AOoCuFqjqIZW"
      },
      "outputs": [],
      "source": [
        "import torch\n"
      ]
    },
    {
      "cell_type": "code",
      "source": [
        "import numpy as np\n"
      ],
      "metadata": {
        "id": "JCNsfaowqr0x"
      },
      "execution_count": 1,
      "outputs": []
    },
    {
      "cell_type": "code",
      "source": [
        "tensor2d= torch.rand(27)\n",
        "tensor2d"
      ],
      "metadata": {
        "id": "b8GiyO6YC2wy",
        "outputId": "21b48708-f50e-4c1b-b662-2d75a04419ad",
        "colab": {
          "base_uri": "https://localhost:8080/"
        }
      },
      "execution_count": 6,
      "outputs": [
        {
          "output_type": "execute_result",
          "data": {
            "text/plain": [
              "tensor([0.1656, 0.9073, 0.4172, 0.7955, 0.3596, 0.4215, 0.0549, 0.3994, 0.4852,\n",
              "        0.7556, 0.9148, 0.8619, 0.4871, 0.4231, 0.2498, 0.2650, 0.7409, 0.3999,\n",
              "        0.9510, 0.6890, 0.3947, 0.3840, 0.7954, 0.5973, 0.2703, 0.8635, 0.8912])"
            ]
          },
          "metadata": {},
          "execution_count": 6
        }
      ]
    },
    {
      "cell_type": "code",
      "source": [
        "tensor2d=tensor2d.reshape(-1,3)\n",
        "tensor2d"
      ],
      "metadata": {
        "id": "ApoSd_waMTUb",
        "outputId": "04806fe9-7818-407b-d410-a33c6b424890",
        "colab": {
          "base_uri": "https://localhost:8080/"
        }
      },
      "execution_count": 9,
      "outputs": [
        {
          "output_type": "execute_result",
          "data": {
            "text/plain": [
              "tensor([[0.1656, 0.9073, 0.4172],\n",
              "        [0.7955, 0.3596, 0.4215],\n",
              "        [0.0549, 0.3994, 0.4852],\n",
              "        [0.7556, 0.9148, 0.8619],\n",
              "        [0.4871, 0.4231, 0.2498],\n",
              "        [0.2650, 0.7409, 0.3999],\n",
              "        [0.9510, 0.6890, 0.3947],\n",
              "        [0.3840, 0.7954, 0.5973],\n",
              "        [0.2703, 0.8635, 0.8912]])"
            ]
          },
          "metadata": {},
          "execution_count": 9
        }
      ]
    }
  ]
}